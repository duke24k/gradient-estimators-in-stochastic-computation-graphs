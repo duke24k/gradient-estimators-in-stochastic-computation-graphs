{
 "cells": [
  {
   "cell_type": "markdown",
   "metadata": {},
   "source": [
    "# Gradient Estimation in 1-Step Navigation MDP"
   ]
  },
  {
   "cell_type": "markdown",
   "metadata": {},
   "source": [
    "## Modeling 1-step transition and reward\n",
    "\n",
    "<img src=\"files/img/1-step-Navigation.png\" width=\"50%\">\n",
    "$$\n",
    "\\begin{equation}\n",
    "\\bar{a}_{t+1} = \\pi_{\\theta}(s_t)\n",
    "\\end{equation}\n",
    "$$\n",
    "\n",
    "$$\n",
    "\\begin{equation}\n",
    "\\alpha \\sim \\mathcal{N}(0, \\sigma(\\Vert \\bar{a}_{t+1} \\Vert))\n",
    "\\end{equation}\n",
    "$$\n",
    "\n",
    "$$\n",
    "\\begin{equation}\n",
    "a_{t+1} = R(\\alpha) \\cdot \\bar{a}_{t+1} = R(\\alpha) = \\begin{bmatrix}\n",
    "\\cos{\\alpha} & -\\sin{\\alpha} \\\\\n",
    "\\sin{\\alpha} & \\cos{\\alpha}\n",
    "\\end{bmatrix} \\cdot \\bar{a}_{t+1}\n",
    "\\end{equation}\n",
    "$$\n",
    "\n",
    "$$\n",
    "\\begin{equation}\n",
    "s_{t+1} = s_t + a_{t+1}\n",
    "\\end{equation}\n",
    "$$\n",
    "\n",
    "$$\n",
    "\\begin{equation}\n",
    "r_{t+1} = -\\Vert g - s_{t+1} \\Vert\n",
    "\\end{equation}\n",
    "$$"
   ]
  },
  {
   "cell_type": "markdown",
   "metadata": {},
   "source": [
    "## Noisy Direction\n",
    "\n",
    "$$\n",
    "\\begin{equation}\n",
    "\\sigma = \\min \\left \\{ \\sigma_{\\text{min}}, \\frac{\\sigma_{\\text{max}}}{\\sqrt{2}} \\Vert \\bar{a}_{t+1} \\Vert \\right \\}\n",
    "\\end{equation}\n",
    "$$\n",
    "\n",
    "$$\n",
    "\\sigma_{\\text{min}} = \\frac{2\\pi}{360^o}\\alpha_{\\text{min}},~~\\sigma_{\\text{max}} = \\frac{2\\pi}{360^o}\\alpha_{\\text{max}}\n",
    "$$\n"
   ]
  },
  {
   "cell_type": "markdown",
   "metadata": {},
   "source": [
    "### Imports"
   ]
  },
  {
   "cell_type": "code",
   "execution_count": 1,
   "metadata": {},
   "outputs": [
    {
     "name": "stderr",
     "output_type": "stream",
     "text": [
      "/usr/local/Cellar/python3/3.6.3/Frameworks/Python.framework/Versions/3.6/lib/python3.6/importlib/_bootstrap.py:219: RuntimeWarning: compiletime version 3.5 of module 'tensorflow.python.framework.fast_tensor_util' does not match runtime version 3.6\n",
      "  return f(*args, **kwds)\n"
     ]
    }
   ],
   "source": [
    "import matplotlib.pyplot as plt\n",
    "import numpy as np\n",
    "import tensorflow as tf\n",
    "\n",
    "import os\n",
    "import time\n",
    "\n",
    "import utils\n",
    "\n",
    "%matplotlib inline"
   ]
  },
  {
   "cell_type": "markdown",
   "metadata": {},
   "source": [
    "### Hyperparameters"
   ]
  },
  {
   "cell_type": "code",
   "execution_count": 2,
   "metadata": {},
   "outputs": [],
   "source": [
    "# domain parameters\n",
    "grid = {\n",
    "    'ndim': 2,\n",
    "    'size': (10.0, 10.0),\n",
    "    'start': np.random.uniform(1.0, 9.0, size=(2,)),\n",
    "    'goal':  np.random.uniform(1.0, 9.0, size=(2,))\n",
    "}\n",
    "\n",
    "# hyperparameters\n",
    "epoch = 200\n",
    "learning_rate = 0.001\n",
    "batch_size = 10000\n",
    "max_time = 1"
   ]
  },
  {
   "cell_type": "markdown",
   "metadata": {},
   "source": [
    "# TF-MDP with SGD"
   ]
  },
  {
   "cell_type": "code",
   "execution_count": 3,
   "metadata": {},
   "outputs": [],
   "source": [
    "from tf_mdp.mdp.models.navigation import Navigation\n",
    "from tf_mdp.mdp.rnn import MDP_RNN\n",
    "from tf_mdp.mdp.loss import MSE_loss_function\n",
    "from tf_mdp.policy.network import PolicyNetwork\n",
    "from tf_mdp.policy.optimizer import SGDPolicyOptimizer\n",
    "from tf_mdp.policy.simulate import PolicySimulator"
   ]
  },
  {
   "cell_type": "code",
   "execution_count": 14,
   "metadata": {},
   "outputs": [
    {
     "name": "stdout",
     "output_type": "stream",
     "text": [
      "Epoch   199: loss = 5.9084000587463385\n",
      "Done in 49.589536 sec.\n",
      "\n",
      "Model saved in file: /Users/thiagopbueno/Projects/jupyter-notebooks/gradient-estimators/notebooks/logs/navigation/1-step/train/model.ckpt\n"
     ]
    }
   ],
   "source": [
    "graph = tf.Graph()\n",
    "\n",
    "# MDP model\n",
    "mdp = Navigation(graph, grid)\n",
    "\n",
    "# define policy network\n",
    "layers = [mdp.state_size + 1, 1000, mdp.action_size]\n",
    "policy = PolicyNetwork(graph, layers)\n",
    "\n",
    "# RNN inputs\n",
    "timesteps = utils.build_timesteps(batch_size, max_time)\n",
    "initial_state = utils.build_initial_state(grid['start'][0], grid['start'][1], batch_size)\n",
    "\n",
    "# unroll MDP model\n",
    "rnn = MDP_RNN(mdp, policy, batch_size)\n",
    "rewards, states, actions, log_probs, final_state = rnn.unroll(initial_state, timesteps)\n",
    "\n",
    "# loss function\n",
    "total, loss = MSE_loss_function(graph, rewards)\n",
    "\n",
    "# optimizer\n",
    "optimizer = SGDPolicyOptimizer(graph, learning_rate, loss, total)\n",
    "\n",
    "# let's train the model!\n",
    "path = os.path.abspath('logs/navigation/1-step/train/model.ckpt')\n",
    "losses, saver, uptime = optimizer.minimize(epoch, path)"
   ]
  },
  {
   "cell_type": "code",
   "execution_count": 16,
   "metadata": {
    "scrolled": true
   },
   "outputs": [
    {
     "data": {
      "image/png": "[encoded data removed]",
      "text/plain": [
       "<matplotlib.figure.Figure at 0x11d43fb70>"
      ]
     },
     "metadata": {},
     "output_type": "display_data"
    }
   ],
   "source": [
    "# visualize training\n",
    "utils.plot_loss_function(losses, epoch)"
   ]
  },
  {
   "cell_type": "code",
   "execution_count": 17,
   "metadata": {},
   "outputs": [
    {
     "name": "stdout",
     "output_type": "stream",
     "text": [
      "INFO:tensorflow:Restoring parameters from /Users/thiagopbueno/Projects/jupyter-notebooks/gradient-estimators/notebooks/logs/navigation/1-step/train/model.ckpt\n",
      "\n",
      "Mean:   [-0.98600447 -0.99835324]\n",
      "Stddev: [  6.91413879e-06   1.36501121e-05]\n"
     ]
    },
    {
     "data": {
      "image/png": "[encoded data removed]",
      "text/plain": [
       "<matplotlib.figure.Figure at 0x11a24bd30>"
      ]
     },
     "metadata": {},
     "output_type": "display_data"
    }
   ],
   "source": [
    "# simulations\n",
    "simulation_batch_size = 10000\n",
    "simulation_max_time = 1\n",
    "\n",
    "s0 = utils.build_initial_state(grid['start'][0], grid['start'][1], simulation_batch_size)\n",
    "timesteps = utils.build_timesteps(simulation_batch_size, simulation_max_time)\n",
    "\n",
    "states_, actions_ = PolicySimulator(graph, path).run([states, actions], s0, timesteps)\n",
    "\n",
    "states_ = np.reshape(states_,(simulation_batch_size, 2) )\n",
    "actions_ = np.reshape(actions_,(simulation_batch_size, 2) )\n",
    "print('\\nMean:  ', np.mean(actions_, axis=0))\n",
    "print('Stddev:', np.std(actions_, axis=0))\n",
    "\n",
    "a = np.mean(actions_, axis=0)\n",
    "\n",
    "fig = plt.figure(figsize=(7, 7))\n",
    "utils.plot_policy(grid, a, states_)"
   ]
  },
  {
   "cell_type": "markdown",
   "metadata": {},
   "source": [
    "# TF-MDP with SGD and Likelihood Ratio"
   ]
  },
  {
   "cell_type": "code",
   "execution_count": 7,
   "metadata": {},
   "outputs": [],
   "source": [
    "graph = tf.Graph()\n",
    "\n",
    "# MDP model\n",
    "mdp = Navigation(graph, grid)\n",
    "\n",
    "# define policy network\n",
    "layers = [mdp.state_size + 1, 20, 5, mdp.action_size]\n",
    "policy = PolicyNetwork(graph, layers)\n",
    "\n",
    "# RNN inputs\n",
    "timesteps = utils.build_timesteps(batch_size, max_time)\n",
    "initial_state = utils.build_initial_state(grid['start'][0], grid['start'][1], batch_size)\n",
    "\n",
    "# unroll MDP model\n",
    "rnn = MDP_RNN(mdp, policy, batch_size)\n",
    "rewards, states, actions, log_probs, final_state = rnn.unroll(initial_state, timesteps)\n",
    "\n",
    "# loss function\n",
    "total, loss = MSE_loss_function(graph, rewards)\n",
    "\n",
    "# likelihood ratio\n",
    "stochastic_nodes = graph.get_collection('stochastic')\n",
    "with graph.as_default():\n",
    "    gradients = []\n",
    "    # ...\n",
    "\n",
    "# optimizer\n",
    "optimizer = SGDPolicyOptimizer(graph, loss, total, learning_rate, gradients)\n",
    "\n",
    "\n",
    "# let's train the model!\n",
    "# path = os.path.abspath('logs/navigation/1-step/train/model.ckpt')\n",
    "# losses, saver, uptime = optimizer.minimize(epoch, path)"
   ]
  }
 ],
 "metadata": {
  "kernelspec": {
   "display_name": "Python 3",
   "language": "python",
   "name": "python3"
  },
  "language_info": {
   "codemirror_mode": {
    "name": "ipython",
    "version": 3
   },
   "file_extension": ".py",
   "mimetype": "text/x-python",
   "name": "python",
   "nbconvert_exporter": "python",
   "pygments_lexer": "ipython3",
   "version": "3.6.3"
  }
 },
 "nbformat": 4,
 "nbformat_minor": 2
}
