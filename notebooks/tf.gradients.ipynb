{
 "cells": [
  {
   "cell_type": "code",
   "execution_count": 1,
   "metadata": {
    "scrolled": true
   },
   "outputs": [
    {
     "name": "stderr",
     "output_type": "stream",
     "text": [
      "/usr/local/Cellar/python3/3.6.3/Frameworks/Python.framework/Versions/3.6/lib/python3.6/importlib/_bootstrap.py:219: RuntimeWarning: compiletime version 3.5 of module 'tensorflow.python.framework.fast_tensor_util' does not match runtime version 3.6\n",
      "  return f(*args, **kwds)\n"
     ]
    }
   ],
   "source": [
    "import tensorflow as tf\n",
    "import numpy as np\n",
    "import matplotlib.pyplot as plt\n",
    "\n",
    "%matplotlib inline"
   ]
  },
  {
   "cell_type": "code",
   "execution_count": 2,
   "metadata": {},
   "outputs": [
    {
     "name": "stdout",
     "output_type": "stream",
     "text": [
      "[1.0, 1.0]\n"
     ]
    }
   ],
   "source": [
    "a = tf.constant(0.0)\n",
    "b = 2 * a\n",
    "c = a + b\n",
    "grad_a, grad_b = tf.gradients(xs=[a, b], ys=c, stop_gradients=[b])\n",
    "\n",
    "sess = tf.InteractiveSession()\n",
    "print(sess.run([grad_a, grad_b]))"
   ]
  },
  {
   "cell_type": "code",
   "execution_count": 3,
   "metadata": {},
   "outputs": [
    {
     "name": "stdout",
     "output_type": "stream",
     "text": [
      "[4.0, 1.0]\n"
     ]
    }
   ],
   "source": [
    "a = tf.constant(1.0)\n",
    "b = 2 * a\n",
    "c = a * b\n",
    "grad_a, grad_b = tf.gradients(xs=[a, b], ys=c)\n",
    "\n",
    "sess = tf.InteractiveSession()\n",
    "print(sess.run([grad_a, grad_b]))"
   ]
  },
  {
   "cell_type": "code",
   "execution_count": 7,
   "metadata": {},
   "outputs": [
    {
     "data": {
      "image/png": "[encoded data removed]",
      "text/plain": [
       "<matplotlib.figure.Figure at 0x1196c54a8>"
      ]
     },
     "metadata": {},
     "output_type": "display_data"
    }
   ],
   "source": [
    "x = tf.constant(np.linspace(-10, 10.0, 1000))\n",
    "y = (x ** 2) * tf.exp(- (x ** 2))\n",
    "grad_y_x, = tf.gradients(ys=y, xs=x)\n",
    "\n",
    "sess = tf.InteractiveSession()\n",
    "x_, y_, grad_y_x_ = sess.run([x, y, grad_y_x])\n",
    "# plt.plot(x_, y_, label='$y(x)$')\n",
    "plt.plot(x_, grad_y_x_, label='$y\\'(x)$')\n",
    "plt.grid()\n",
    "plt.legend()\n",
    "plt.show()"
   ]
  },
  {
   "cell_type": "code",
   "execution_count": 10,
   "metadata": {},
   "outputs": [
    {
     "data": {
      "image/png": "[encoded data removed]",
      "text/plain": [
       "<matplotlib.figure.Figure at 0x119a7d5c0>"
      ]
     },
     "metadata": {},
     "output_type": "display_data"
    }
   ],
   "source": [
    "x = np.linspace(-10, 10, 1000)\n",
    "grad = 2*x*np.exp(-x**2)*(1 - x**2)\n",
    "plt.plot(x, grad)\n",
    "plt.grid()\n",
    "plt.show()"
   ]
  },
  {
   "cell_type": "code",
   "execution_count": 55,
   "metadata": {},
   "outputs": [
    {
     "name": "stdout",
     "output_type": "stream",
     "text": [
      "Tensor(\"Const_118:0\", shape=(3, 1), dtype=float32)\n",
      "Tensor(\"Const_119:0\", shape=(1, 3), dtype=float32)\n",
      "Tensor(\"MatMul_13:0\", shape=(1, 1), dtype=float32)\n",
      "Tensor(\"gradients_27/MatMul_13_grad/MatMul_1:0\", shape=(3, 1), dtype=float32)\n",
      "[[-3.]\n",
      " [ 2.]\n",
      " [-1.]]\n"
     ]
    }
   ],
   "source": [
    "x = tf.constant([0.0, 0.0, 0.0], shape=(3, 1), dtype=tf.float32)\n",
    "print(x)\n",
    "w = tf.constant([-3.0, 2.0, -1.0], shape=(1, 3), dtype=tf.float32)\n",
    "print(w)\n",
    "y = tf.matmul(w, x)\n",
    "print(y)\n",
    "grad_y_x, = tf.gradients(xs=x, ys=y)\n",
    "print(grad_y_x)\n",
    "\n",
    "sess = tf.InteractiveSession()\n",
    "print(sess.run(grad_y_x))"
   ]
  },
  {
   "cell_type": "code",
   "execution_count": 60,
   "metadata": {},
   "outputs": [
    {
     "name": "stdout",
     "output_type": "stream",
     "text": [
      "Tensor(\"Const_128:0\", shape=(3, 3), dtype=int32)\n",
      "Tensor(\"Const_129:0\", shape=(3, 1), dtype=int32)\n",
      "Tensor(\"MatMul_18:0\", shape=(3, 1), dtype=int32)\n",
      "Tensor(\"gradients_32/MatMul_18_grad/MatMul_1:0\", shape=(3, 1), dtype=int32)\n",
      "[[1 0 0]\n",
      " [1 5 0]\n",
      " [1 8 6]]\n",
      "[[ 3]\n",
      " [13]\n",
      " [ 6]]\n"
     ]
    }
   ],
   "source": [
    "W = tf.constant(np.tril(np.random.randint(1, 10, size=(3, 3))), dtype=tf.int32)\n",
    "print(W)\n",
    "x = tf.constant([0, 0, 0], shape=(3, 1), dtype=tf.int32)\n",
    "print(x)\n",
    "y = tf.matmul(W, x)\n",
    "print(y)\n",
    "grad_y_x, = tf.gradients(xs=x, ys=y)\n",
    "print(grad_y_x)\n",
    "\n",
    "sess = tf.InteractiveSession()\n",
    "W_, grad_, = sess.run([W, grad_y_x])\n",
    "print(W_)\n",
    "print(grad_)"
   ]
  },
  {
   "cell_type": "code",
   "execution_count": 70,
   "metadata": {},
   "outputs": [
    {
     "name": "stdout",
     "output_type": "stream",
     "text": [
      "Tensor(\"W_3:0\", shape=(3, 3), dtype=float32)\n",
      "<tf.Variable 'x_3:0' shape=(3, 1) dtype=float32_ref>\n",
      "Tensor(\"y_2:0\", shape=(3, 1), dtype=float32)\n",
      "<tf.Variable 'Variable:0' shape=(3,) dtype=float32_ref> None\n",
      "\n",
      "<tf.Variable 'Variable_1:0' shape=(3, 1) dtype=float32_ref> None\n",
      "\n",
      "<tf.Variable 'x:0' shape=(3, 1) dtype=float32_ref> None\n",
      "\n",
      "<tf.Variable 'x_1:0' shape=(3, 1) dtype=float32_ref> None\n",
      "\n",
      "<tf.Variable 'x_2:0' shape=(3, 1) dtype=float32_ref> None\n",
      "\n",
      "<tf.Variable 'x_3:0' shape=(3, 1) dtype=float32_ref> Tensor(\"gradients_37/y_2_grad/tuple/control_dependency_1:0\", shape=(3, 1), dtype=float32)\n",
      "\n"
     ]
    }
   ],
   "source": [
    "W = tf.constant(np.tril(np.random.randint(1, 10, size=(3, 3))), dtype=tf.float32, name=\"W\")\n",
    "print(W)\n",
    "x = tf.Variable(initial_value=[[0], [0], [0]], dtype=tf.float32, name=\"x\")\n",
    "print(x)\n",
    "y = tf.matmul(W, x, name=\"y\")\n",
    "print(y)\n",
    "\n",
    "learning_rate = 0.9\n",
    "grads_and_vars = tf.train.GradientDescentOptimizer(learning_rate).compute_gradients(y)\n",
    "for grad, var in grads_and_vars:\n",
    "    print(var, grad)\n",
    "    print()"
   ]
  }
 ],
 "metadata": {
  "kernelspec": {
   "display_name": "Python 3",
   "language": "python",
   "name": "python3"
  },
  "language_info": {
   "codemirror_mode": {
    "name": "ipython",
    "version": 3
   },
   "file_extension": ".py",
   "mimetype": "text/x-python",
   "name": "python",
   "nbconvert_exporter": "python",
   "pygments_lexer": "ipython3",
   "version": "3.6.3"
  }
 },
 "nbformat": 4,
 "nbformat_minor": 2
}
